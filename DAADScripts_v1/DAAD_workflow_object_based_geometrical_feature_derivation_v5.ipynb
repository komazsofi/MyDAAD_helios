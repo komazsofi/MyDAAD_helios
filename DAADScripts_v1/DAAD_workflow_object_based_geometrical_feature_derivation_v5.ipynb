{
 "cells": [
  {
   "cell_type": "markdown",
   "metadata": {},
   "source": [
    "1.) Point cloud import\n",
    "\n",
    "Importing example datasets related to generated datasets via LiDAR Simulation Tool (HELIOS https://github.com/nlukac/helios-FWF).\n",
    "Output file structure is the following: [x,y,z,intensity,echowidth,returnNumber,returnNumPerPulse,FWFIndex,objectId].\n"
   ]
  },
  {
   "cell_type": "code",
   "execution_count": 12,
   "metadata": {
    "collapsed": false
   },
   "outputs": [],
   "source": [
    "import pandas as pd\n",
    "import numpy as np\n",
    "import matplotlib.pyplot as plt\n",
    "\n",
    "workdir='/home/komazsofi/Munka/Heidelberg/DAAD_helios_sim/Run2_wground_20161228/'\n",
    "filename='ALS_PH2leg000_points.xyz'\n",
    "\n",
    "sim_data=pd.read_csv(workdir+filename,sep=' ',names=['x','y','NormalizedZ','intensity','echowidth','returnNumber','returnNumPerPulse','FWFIndex','objectId'])\n"
   ]
  },
  {
   "cell_type": "code",
   "execution_count": 16,
   "metadata": {
    "collapsed": false
   },
   "outputs": [],
   "source": [
    "ground_sim_data=sim_data[(sim_data['objectId']==0)]\n",
    "nonground_sim_data=sim_data[(sim_data['objectId']==1)]\n",
    "\n",
    "def convert_treetype(name):\n",
    "    if name=='PH':\n",
    "        shape='spherical'\n",
    "    if name=='PN':\n",
    "        shape='conical'\n",
    "    if name=='PoN':\n",
    "        shape='cylinderical'\n",
    "    return shape"
   ]
  },
  {
   "cell_type": "markdown",
   "metadata": {},
   "source": [
    "3.) Calculating object related geometrical features (the features represents the entire object with one value):\n",
    "a.) Number of points ratios\n",
    "b.) Tree height\n",
    "c.) Echoes type ratios"
   ]
  },
  {
   "cell_type": "code",
   "execution_count": 28,
   "metadata": {
    "collapsed": false
   },
   "outputs": [
    {
     "name": "stdout",
     "output_type": "stream",
     "text": [
      "0.524556616644 0.740791268759 0.475443383356 27.6109 0.158253751705 0.299454297408 0.416098226467 0.18622100955 0.364938608458 0.550477489768 0.0920873124147 0.200545702592 0.333560709413\n"
     ]
    }
   ],
   "source": [
    "nofp_single_to_all=np.float(len(nonground_sim_data[(nonground_sim_data['returnNumPerPulse']==1)].index))/np.float(len(nonground_sim_data.index))\n",
    "nofp_first_to_all=np.float(len(nonground_sim_data[(nonground_sim_data['returnNumber']==1)].index))/np.float(len(nonground_sim_data.index))\n",
    "nofp_multi_to_all=np.float(len(nonground_sim_data[(nonground_sim_data['returnNumPerPulse']>1)].index))/np.float(len(nonground_sim_data.index))\n",
    "\n",
    "treeheight=np.percentile(nonground_sim_data['NormalizedZ'],98)\n",
    "\n",
    "nofp_up25_single_to_all=np.float(len(nonground_sim_data[(nonground_sim_data['returnNumPerPulse']==1) & (nonground_sim_data['NormalizedZ']<np.percentile(nonground_sim_data['NormalizedZ'],25))].index))/np.float(len(nonground_sim_data.index))\n",
    "nofp_up50_single_to_all=np.float(len(nonground_sim_data[(nonground_sim_data['returnNumPerPulse']==1) & (nonground_sim_data['NormalizedZ']<np.percentile(nonground_sim_data['NormalizedZ'],50))].index))/np.float(len(nonground_sim_data.index))\n",
    "nofp_up75_single_to_all=np.float(len(nonground_sim_data[(nonground_sim_data['returnNumPerPulse']==1) & (nonground_sim_data['NormalizedZ']<np.percentile(nonground_sim_data['NormalizedZ'],75))].index))/np.float(len(nonground_sim_data.index))\n",
    "\n",
    "nofp_up25_first_to_all=np.float(len(nonground_sim_data[(nonground_sim_data['returnNumber']==1) & (nonground_sim_data['NormalizedZ']<np.percentile(nonground_sim_data['NormalizedZ'],25))].index))/np.float(len(nonground_sim_data.index))\n",
    "nofp_up50_first_to_all=np.float(len(nonground_sim_data[(nonground_sim_data['returnNumber']==1) & (nonground_sim_data['NormalizedZ']<np.percentile(nonground_sim_data['NormalizedZ'],50))].index))/np.float(len(nonground_sim_data.index))\n",
    "nofp_up75_first_to_all=np.float(len(nonground_sim_data[(nonground_sim_data['returnNumber']==1) & (nonground_sim_data['NormalizedZ']<np.percentile(nonground_sim_data['NormalizedZ'],75))].index))/np.float(len(nonground_sim_data.index))\n",
    "\n",
    "nofp_up25_multi_to_all=np.float(len(nonground_sim_data[(nonground_sim_data['returnNumPerPulse']>1) & (nonground_sim_data['NormalizedZ']<np.percentile(nonground_sim_data['NormalizedZ'],25))].index))/np.float(len(nonground_sim_data.index))\n",
    "nofp_up50_multi_to_all=np.float(len(nonground_sim_data[(nonground_sim_data['returnNumPerPulse']>1) & (nonground_sim_data['NormalizedZ']<np.percentile(nonground_sim_data['NormalizedZ'],50))].index))/np.float(len(nonground_sim_data.index))\n",
    "nofp_up75_multi_to_all=np.float(len(nonground_sim_data[(nonground_sim_data['returnNumPerPulse']>1) & (nonground_sim_data['NormalizedZ']<np.percentile(nonground_sim_data['NormalizedZ'],75))].index))/np.float(len(nonground_sim_data.index))\n",
    "\n",
    "print nofp_single_to_all,nofp_first_to_all,nofp_multi_to_all,treeheight,nofp_up25_single_to_all,nofp_up50_single_to_all,nofp_up75_single_to_all,nofp_up25_first_to_all,nofp_up50_first_to_all,nofp_up75_first_to_all,nofp_up25_multi_to_all,nofp_up50_multi_to_all,nofp_up75_multi_to_all"
   ]
  },
  {
   "cell_type": "markdown",
   "metadata": {},
   "source": [
    "d.) Crown\n",
    "-- Crown base\n",
    "-- Simple crown related features\n",
    "-- Ratios"
   ]
  },
  {
   "cell_type": "code",
   "execution_count": null,
   "metadata": {
    "collapsed": true
   },
   "outputs": [],
   "source": []
  },
  {
   "cell_type": "markdown",
   "metadata": {},
   "source": [
    "4.) Calculating subset related geometrical features (the features represents the entire object with more value according to height):\n",
    "a.) Number of points per percentiles\n",
    "b.) Echo ratios per percentiles"
   ]
  },
  {
   "cell_type": "code",
   "execution_count": 57,
   "metadata": {
    "collapsed": false
   },
   "outputs": [
    {
     "name": "stdout",
     "output_type": "stream",
     "text": [
      "146,146,145,146,146,146,146,146,146,146,\n",
      "85,97,90,84,82,80,53,73,58,65,\n",
      "100,112,110,98,113,115,100,111,103,120,\n",
      "61,49,55,62,64,66,93,73,88,81,\n"
     ]
    }
   ],
   "source": [
    "def nofp_per_perc(nonground_sim_data):\n",
    "    nofp_perc_all=\"\"\n",
    "    nofp_perc_single=\"\"\n",
    "    nofp_perc_first=\"\"\n",
    "    nofp_perc_multi=\"\"\n",
    "    \n",
    "    for i in range(0,100,10):\n",
    "        \n",
    "        nofp_perc_all_s=nonground_sim_data[(nonground_sim_data['NormalizedZ']>np.percentile(nonground_sim_data['NormalizedZ'],i)) & (nonground_sim_data['NormalizedZ']<np.percentile(nonground_sim_data['NormalizedZ'],i+10))].shape[0]\n",
    "        nofp_perc_all+=\"%s,\" % (nofp_perc_all_s)\n",
    "        \n",
    "        nofp_perc_single_s=nonground_sim_data[(nonground_sim_data['returnNumPerPulse']==1) & (nonground_sim_data['NormalizedZ']>np.percentile(nonground_sim_data['NormalizedZ'],i)) & (nonground_sim_data['NormalizedZ']<np.percentile(nonground_sim_data['NormalizedZ'],i+10))].shape[0]\n",
    "        nofp_perc_single+=\"%s,\" % (nofp_perc_single_s)\n",
    "        \n",
    "        nofp_perc_first_s=nonground_sim_data[(nonground_sim_data['returnNumber']==1) & (nonground_sim_data['NormalizedZ']>np.percentile(nonground_sim_data['NormalizedZ'],i)) & (nonground_sim_data['NormalizedZ']<np.percentile(nonground_sim_data['NormalizedZ'],i+10))].shape[0]\n",
    "        nofp_perc_first+=\"%s,\" % (nofp_perc_first_s)\n",
    "        \n",
    "        nofp_perc_multi_s=nonground_sim_data[(nonground_sim_data['returnNumPerPulse']>1) & (nonground_sim_data['NormalizedZ']>np.percentile(nonground_sim_data['NormalizedZ'],i)) & (nonground_sim_data['NormalizedZ']<np.percentile(nonground_sim_data['NormalizedZ'],i+10))].shape[0]\n",
    "        nofp_perc_multi+=\"%s,\" % (nofp_perc_multi_s)\n",
    "        \n",
    "    return nofp_perc_all,nofp_perc_single,nofp_perc_first,nofp_perc_multi\n",
    "    \n",
    "nofp_perc_all,nofp_perc_single,nofp_perc_first,nofp_perc_multi=nofp_per_perc(nonground_sim_data)\n",
    "\n",
    "print nofp_perc_all\n",
    "print nofp_perc_single\n",
    "print nofp_perc_first\n",
    "print nofp_perc_multi"
   ]
  },
  {
   "cell_type": "markdown",
   "metadata": {},
   "source": [
    "5.) Export the calculated geometrical features\n",
    "a.) Geometrical features related to the entire tree"
   ]
  },
  {
   "cell_type": "code",
   "execution_count": 14,
   "metadata": {
    "collapsed": false
   },
   "outputs": [
    {
     "name": "stdout",
     "output_type": "stream",
     "text": [
      "ALS_PH2leg000_points.xyz,ALS,PH2,spherical,0\n",
      "\n"
     ]
    }
   ],
   "source": [
    "output_fea_obj = \"%s,%s,%s,%s,%s\\n\" % (filename,filename[0:3],filename[4:-17],convert_treetype(filename[4:-18]),filename[-12:-11])\n",
    "\n",
    "print output_fea_obj\n",
    "\n",
    "fileout = file(workdir+filename[:-4]+'with_obj_geomfea.txt', \"w\")\n",
    "fileout.write(output_fea_obj)\n",
    "fileout.close()"
   ]
  },
  {
   "cell_type": "markdown",
   "metadata": {},
   "source": [
    "b.) Geometrical features related to the subset of the tree"
   ]
  },
  {
   "cell_type": "code",
   "execution_count": 15,
   "metadata": {
    "collapsed": false
   },
   "outputs": [
    {
     "name": "stdout",
     "output_type": "stream",
     "text": [
      "ALS_PH2leg000_points.xyz,ALS,PH2,spherical,0\n",
      "\n"
     ]
    }
   ],
   "source": [
    "output_fea_sub = \"%s,%s,%s,%s,%s\\n\" % (filename,filename[0:3],filename[4:-17],convert_treetype(filename[4:-18]),filename[-12:-11])\n",
    "\n",
    "print output_fea_sub\n",
    "\n",
    "fileout = file(workdir+filename[:-4]+'with_sub_geomfea.txt', \"w\")\n",
    "fileout.write(output_fea_sub)\n",
    "fileout.close()"
   ]
  },
  {
   "cell_type": "markdown",
   "metadata": {},
   "source": [
    "5.) Run the downloaded script in terminal\n",
    "-- modify the script with this (add argparse for terminal based data processing): \n",
    "\n",
    "import argparse\n",
    "\n",
    "parser = argparse.ArgumentParser()\n",
    "parser.add_argument('workdir', help='working directory')\n",
    "parser.add_argument('filename', help='the simulation output filename')\n",
    "args = parser.parse_args()\n",
    "\n",
    "workdir=args.workdir\n",
    "filename=args.filename\n",
    "\n",
    "-- in the working directory run the bash file like this:\n",
    "\n",
    "for i in *.xyz; do python /home/komazsofi/Munka/Heidelberg/DAAD_helios_sim/Python/DAAD_workflow_object_based_geometrical_feature_derivation_v2.py /home/komazsofi/Munka/Heidelberg/DAAD_helios_sim/Data2/ $i; done\n",
    "\n",
    "-- than merge together the files:\n",
    "\n",
    "cat *with_obj_geomfea.txt > Sim_obj_geom_fea.txt\n"
   ]
  }
 ],
 "metadata": {
  "kernelspec": {
   "display_name": "Python 2",
   "language": "python",
   "name": "python2"
  },
  "language_info": {
   "codemirror_mode": {
    "name": "ipython",
    "version": 2
   },
   "file_extension": ".py",
   "mimetype": "text/x-python",
   "name": "python",
   "nbconvert_exporter": "python",
   "pygments_lexer": "ipython2",
   "version": "2.7.6"
  }
 },
 "nbformat": 4,
 "nbformat_minor": 2
}
